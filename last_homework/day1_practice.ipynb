{
  "cells": [
    {
      "cell_type": "markdown",
      "metadata": {
        "id": "view-in-github",
        "colab_type": "text"
      },
      "source": [
        "<a href=\"https://colab.research.google.com/github/ommusuc/water-air/blob/main/last_homework/day1_practice.ipynb\" target=\"_parent\"><img src=\"https://colab.research.google.com/assets/colab-badge.svg\" alt=\"Open In Colab\"/></a>"
      ]
    },
    {
      "cell_type": "markdown",
      "metadata": {
        "id": "gSpnWBP5ELSI"
      },
      "source": [
        "# 実践演習 Day 1：streamlitとFastAPIのデモ\n",
        "このノートブックでは以下の内容を学習します。\n",
        "\n",
        "- 必要なライブラリのインストールと環境設定\n",
        "- Hugging Faceからモデルを用いたStreamlitのデモアプリ\n",
        "- FastAPIとngrokを使用したAPIの公開方法\n",
        "\n",
        "演習を始める前に、HuggingFaceとngrokのアカウントを作成し、\n",
        "それぞれのAPIトークンを取得する必要があります。\n",
        "\n",
        "\n",
        "演習の時間では、以下の3つのディレクトリを順に説明します。\n",
        "\n",
        "1. 01_streamlit_UI\n",
        "2. 02_streamlit_app\n",
        "3. 03_FastAPI\n",
        "\n",
        "2つ目や3つ目からでも始められる様にノートブックを作成しています。\n",
        "\n",
        "復習の際にもこのノートブックを役立てていただければと思います。\n",
        "\n",
        "### 注意事項\n",
        "「02_streamlit_app」と「03_FastAPI」では、GPUを使用します。\n",
        "\n",
        "これらを実行する際は、Google Colab画面上のメニューから「編集」→ 「ノートブックの設定」\n",
        "\n",
        "「ハードウェアアクセラレーター」の項目の中から、「T4 GPU」を選択してください。\n",
        "\n",
        "このノートブックのデフォルトは「CPU」になっています。\n",
        "\n",
        "---"
      ]
    },
    {
      "cell_type": "markdown",
      "metadata": {
        "id": "OhtHkJOgELSL"
      },
      "source": [
        "# 環境変数の設定（1~3共有）\n"
      ]
    },
    {
      "cell_type": "markdown",
      "metadata": {
        "id": "Y-FjBp4MMQHM"
      },
      "source": [
        "GitHubから演習用のコードをCloneします。"
      ]
    },
    {
      "cell_type": "code",
      "execution_count": 1,
      "metadata": {
        "id": "AIXMavdDEP8U",
        "colab": {
          "base_uri": "https://localhost:8080/"
        },
        "outputId": "d7aff72e-0e9a-4428-9ca5-a65753b2a075"
      },
      "outputs": [
        {
          "output_type": "stream",
          "name": "stdout",
          "text": [
            "Cloning into 'water-air'...\n",
            "remote: Enumerating objects: 41, done.\u001b[K\n",
            "remote: Counting objects: 100% (41/41), done.\u001b[K\n",
            "remote: Compressing objects: 100% (25/25), done.\u001b[K\n",
            "remote: Total 41 (delta 14), reused 38 (delta 14), pack-reused 0 (from 0)\u001b[K\n",
            "Receiving objects: 100% (41/41), 44.73 KiB | 11.18 MiB/s, done.\n",
            "Resolving deltas: 100% (14/14), done.\n"
          ]
        }
      ],
      "source": [
        "!git clone https://github.com/ommusuc/water-air.git"
      ]
    },
    {
      "cell_type": "markdown",
      "metadata": {
        "id": "XC8n7yZ_vs1K"
      },
      "source": [
        "必要なAPIトークンを.envに設定します。\n",
        "\n",
        "「lecture-ai-engineering/day1」の配下に、「.env_template」ファイルが存在しています。\n",
        "\n",
        "隠しファイルのため表示されていない場合は、画面左側のある、目のアイコンの「隠しファイルの表示」ボタンを押してください。\n",
        "\n",
        "「.env_template」のファイル名を「.env」に変更します。「.env」ファイルを開くと、以下のような中身になっています。\n",
        "\n",
        "\n",
        "```\n",
        "HUGGINGFACE_TOKEN=\"hf-********\"\n",
        "NGROK_TOKEN=\"********\"\n",
        "```\n",
        "ダブルクオーテーションで囲まれた文字列をHuggingfaceのアクセストークンと、ngrokの認証トークンで書き変えてください。\n",
        "\n",
        "それぞれのアカウントが作成済みであれば、以下のURLからそれぞれのトークンを取得できます。\n",
        "\n",
        "- Huggingfaceのアクセストークン\n",
        "https://huggingface.co/docs/hub/security-tokens\n",
        "\n",
        "- ngrokの認証トークン\n",
        "https://dashboard.ngrok.com/get-started/your-authtoken\n",
        "\n",
        "書き換えたら、「.env」ファイルをローカルのPCにダウンロードしてください。\n",
        "\n",
        "「01_streamlit_UI」から「02_streamlit_app」へ進む際に、CPUからGPUの利用に切り替えるため、セッションが一度切れてしまいます。\n",
        "\n",
        "その際に、トークンを設定した「.env」ファイルは再作成することになるので、その手間を減らすために「.env」ファイルをダウンロードしておくと良いです。"
      ]
    },
    {
      "cell_type": "markdown",
      "metadata": {
        "id": "Py1BFS5RqcSS"
      },
      "source": [
        "「.env」ファイルを読み込み、環境変数として設定します。次のセルを実行し、最終的に「True」が表示されていればうまく読み込めています。"
      ]
    },
    {
      "cell_type": "code",
      "execution_count": 2,
      "metadata": {
        "id": "bvEowFfg5lrq",
        "colab": {
          "base_uri": "https://localhost:8080/"
        },
        "outputId": "1c98a55e-59b3-439a-bf27-ced29e820846"
      },
      "outputs": [
        {
          "output_type": "stream",
          "name": "stdout",
          "text": [
            "Collecting python-dotenv\n",
            "  Downloading python_dotenv-1.1.0-py3-none-any.whl.metadata (24 kB)\n",
            "Downloading python_dotenv-1.1.0-py3-none-any.whl (20 kB)\n",
            "Installing collected packages: python-dotenv\n",
            "Successfully installed python-dotenv-1.1.0\n",
            "/content/water-air/last_homework\n"
          ]
        },
        {
          "output_type": "execute_result",
          "data": {
            "text/plain": [
              "True"
            ]
          },
          "metadata": {},
          "execution_count": 2
        }
      ],
      "source": [
        "!pip install python-dotenv\n",
        "from dotenv import load_dotenv, find_dotenv\n",
        "\n",
        "%cd /content/water-air/last_homework\n",
        "load_dotenv(find_dotenv())"
      ]
    },
    {
      "cell_type": "markdown",
      "metadata": {
        "id": "o-T8tFpyELSO"
      },
      "source": [
        "# 02_streamlit_app"
      ]
    },
    {
      "cell_type": "markdown",
      "metadata": {
        "id": "QqogFQKnELSO"
      },
      "source": [
        "\n",
        "ディレクトリ「02_streamlit_app」に移動します。"
      ]
    },
    {
      "cell_type": "code",
      "execution_count": 3,
      "metadata": {
        "id": "UeEjlJ7uELSO",
        "colab": {
          "base_uri": "https://localhost:8080/"
        },
        "outputId": "4810cc31-1a3a-47f5-8f0a-4c9632fd1a69"
      },
      "outputs": [
        {
          "output_type": "stream",
          "name": "stdout",
          "text": [
            "/content/water-air/last_homework/01_streamlit_UI\n"
          ]
        }
      ],
      "source": [
        "%cd /content/water-air/last_homework/01_streamlit_UI"
      ]
    },
    {
      "cell_type": "markdown",
      "metadata": {
        "id": "-XUH2AstELSO"
      },
      "source": [
        "必要なライブラリをインストールします。"
      ]
    },
    {
      "cell_type": "code",
      "execution_count": 4,
      "metadata": {
        "id": "mDqvI4V3ELSO"
      },
      "outputs": [],
      "source": [
        "%%capture\n",
        "!pip install -r requirements.txt"
      ]
    },
    {
      "cell_type": "markdown",
      "metadata": {
        "id": "ZO31umGZELSO"
      },
      "source": [
        "ngrokとhuggigfaceのトークンを使用して、認証を行います。"
      ]
    },
    {
      "cell_type": "code",
      "execution_count": 5,
      "metadata": {
        "id": "jPxTiEWQELSO",
        "colab": {
          "base_uri": "https://localhost:8080/"
        },
        "outputId": "0b6ca7d7-4a5e-4d18-f52f-6e5307dd75a6"
      },
      "outputs": [
        {
          "output_type": "stream",
          "name": "stdout",
          "text": [
            "Authtoken saved to configuration file: /root/.config/ngrok/ngrok.yml\n",
            "The token has not been saved to the git credentials helper. Pass `add_to_git_credential=True` in this function directly or `--add-to-git-credential` if using via `huggingface-cli` if you want to set the git credential as well.\n",
            "Token is valid (permission: read).\n",
            "The token `dl_class` has been saved to /root/.cache/huggingface/stored_tokens\n",
            "Your token has been saved to /root/.cache/huggingface/token\n",
            "Login successful.\n",
            "The current active token is: `dl_class`\n"
          ]
        }
      ],
      "source": [
        "!ngrok authtoken $$NGROK_TOKEN\n",
        "!huggingface-cli login --token $$HUGGINGFACE_TOKEN"
      ]
    },
    {
      "cell_type": "markdown",
      "metadata": {
        "id": "dz4WrELLELSP"
      },
      "source": [
        "stramlitでHuggingfaceのトークン情報を扱うために、streamlit用の設定ファイル（.streamlit）を作成し、トークンの情報を格納します。"
      ]
    },
    {
      "cell_type": "code",
      "execution_count": 6,
      "metadata": {
        "id": "W184-a7qFP0W"
      },
      "outputs": [],
      "source": [
        "# .streamlit/secrets.toml ファイルを作成\n",
        "import os\n",
        "import toml\n",
        "\n",
        "# 設定ファイルのディレクトリ確保\n",
        "os.makedirs('.streamlit', exist_ok=True)\n",
        "\n",
        "# 環境変数から取得したトークンを設定ファイルに書き込む\n",
        "secrets = {\n",
        "    \"huggingface\": {\n",
        "        \"token\": os.environ.get(\"HUGGINGFACE_TOKEN\", \"\")\n",
        "    }\n",
        "}\n",
        "\n",
        "# 設定ファイルを書き込む\n",
        "with open('.streamlit/secrets.toml', 'w') as f:\n",
        "    toml.dump(secrets, f)"
      ]
    },
    {
      "cell_type": "markdown",
      "metadata": {
        "id": "fK0vI_xKELSP"
      },
      "source": [
        "アプリを起動します。\n",
        "\n",
        "02_streamlit_appでは、Huggingfaceからモデルをダウンロードするため、初回起動には2分程度時間がかかります。\n",
        "\n",
        "この待ち時間を利用して、app.pyのコードを確認してみましょう。"
      ]
    },
    {
      "cell_type": "markdown",
      "source": [
        "# モデルを変更\n",
        "\n",
        "\n",
        "```\n",
        "google/gemma-3-4b-it\n",
        "```\n",
        "\n",
        "でconfig.pyでMODEL_NAMEを指定\n",
        "\n",
        "\n",
        "\n",
        "## Gemma 3 モデルの概要\n",
        "\n",
        "\n",
        "### 128,000 トークンのコンテキスト ウィンドウ\n",
        "\n",
        "Gemma 3 モデルは、最大 128, 000 トークンのプロンプト入力を処理できます。これは、以前の Gemma モデルのコンテキスト ウィンドウの 16 倍です。トークンが大量にあるため、複数の複数ページの記事、大規模な単一の記事、数百枚の画像を 1 つのプロンプトで処理できます。\n",
        "\n",
        "\n",
        "\n",
        "\n",
        "### パラメータのサイズと量子化\n",
        "\n",
        "Gemma 3 モデルは、32 ビットのフル精度から 4 ビットの最小精度まで、5 つの精度レベルで 4 つのパラメータ サイズで使用できます。さまざまなサイズと精度は、AI アプリケーションのトレードオフを表します。パラメータとビット数が多いモデル（精度が高いモデル）は一般に機能が優れていますが、処理サイクル、メモリコスト、消費電力という点で実行コストが高くなります。パラメータとビット数が少ないモデル（精度が低いモデル）は機能が制限されますが、AI タスクに十分な場合があります。次の表に、Gemma 3 モデル バージョンの各サイズで推論を実行するために必要な GPU または TPU のメモリの概要を示します。\n",
        "\n",
        "\n",
        "### 参照リンク先\n",
        "\n",
        "https://ai.google.dev/gemma/docs/core?hl=ja\n",
        "\n",
        "\n"
      ],
      "metadata": {
        "id": "0ugR_TfkJCww"
      }
    },
    {
      "cell_type": "code",
      "execution_count": 7,
      "metadata": {
        "id": "TBQyTTWTELSP",
        "colab": {
          "base_uri": "https://localhost:8080/"
        },
        "outputId": "04e74f39-02c5-4e49-dee9-4e61bbe24add"
      },
      "outputs": [
        {
          "output_type": "stream",
          "name": "stdout",
          "text": [
            "公開URL: https://0723-35-186-152-117.ngrok-free.app\n",
            "\n",
            "Collecting usage statistics. To deactivate, set browser.gatherUsageStats to false.\n",
            "\u001b[0m\n",
            "\u001b[0m\n",
            "\u001b[34m\u001b[1m  You can now view your Streamlit app in your browser.\u001b[0m\n",
            "\u001b[0m\n",
            "\u001b[34m  Local URL: \u001b[0m\u001b[1mhttp://localhost:8501\u001b[0m\n",
            "\u001b[34m  Network URL: \u001b[0m\u001b[1mhttp://172.28.0.12:8501\u001b[0m\n",
            "\u001b[34m  External URL: \u001b[0m\u001b[1mhttp://35.186.152.117:8501\u001b[0m\n",
            "\u001b[0m\n"
          ]
        },
        {
          "output_type": "stream",
          "name": "stderr",
          "text": [
            "WARNING:pyngrok.process.ngrok:t=2025-06-15T04:18:05+0000 lvl=warn msg=\"failed to check for update\" obj=updater err=\"Post \\\"https://update.equinox.io/check\\\": context deadline exceeded\"\n"
          ]
        },
        {
          "output_type": "stream",
          "name": "stdout",
          "text": [
            "2025-06-15 04:18:24.732957: I tensorflow/core/util/port.cc:153] oneDNN custom operations are on. You may see slightly different numerical results due to floating-point round-off errors from different computation orders. To turn them off, set the environment variable `TF_ENABLE_ONEDNN_OPTS=0`.\n",
            "2025-06-15 04:18:24.751259: E external/local_xla/xla/stream_executor/cuda/cuda_fft.cc:477] Unable to register cuFFT factory: Attempting to register factory for plugin cuFFT when one has already been registered\n",
            "WARNING: All log messages before absl::InitializeLog() is called are written to STDERR\n",
            "E0000 00:00:1749961104.775636    4138 cuda_dnn.cc:8310] Unable to register cuDNN factory: Attempting to register factory for plugin cuDNN when one has already been registered\n",
            "E0000 00:00:1749961104.783080    4138 cuda_blas.cc:1418] Unable to register cuBLAS factory: Attempting to register factory for plugin cuBLAS when one has already been registered\n",
            "2025-06-15 04:18:24.807900: I tensorflow/core/platform/cpu_feature_guard.cc:210] This TensorFlow binary is optimized to use available CPU instructions in performance-critical operations.\n",
            "To enable the following instructions: AVX2 AVX512F AVX512_VNNI FMA, in other operations, rebuild TensorFlow with the appropriate compiler flags.\n",
            "tokenizer_config.json: 100% 46.9k/46.9k [00:00<00:00, 43.8MB/s]\n",
            "tokenizer.model: 100% 4.24M/4.24M [00:00<00:00, 179MB/s]\n",
            "tokenizer.json: 100% 17.5M/17.5M [00:00<00:00, 116MB/s]\n",
            "special_tokens_map.json: 100% 555/555 [00:00<00:00, 4.38MB/s]\n",
            "config.json: 100% 805/805 [00:00<00:00, 6.88MB/s]\n",
            "model.safetensors.index.json: 100% 24.2k/24.2k [00:00<00:00, 88.7MB/s]\n",
            "Fetching 2 files:   0% 0/2 [00:00<?, ?it/s]\n",
            "model-00001-of-00002.safetensors:   0% 0.00/4.99G [00:00<?, ?B/s]\u001b[A\n",
            "\n",
            "model-00002-of-00002.safetensors:   0% 0.00/241M [00:00<?, ?B/s]\u001b[A\u001b[A\n",
            "model-00001-of-00002.safetensors:   0% 21.0M/4.99G [00:00<00:31, 156MB/s]\u001b[A\n",
            "model-00001-of-00002.safetensors:   1% 52.4M/4.99G [00:00<00:22, 217MB/s]\u001b[A\n",
            "model-00001-of-00002.safetensors:   2% 115M/4.99G [00:00<00:13, 370MB/s] \u001b[A\n",
            "model-00001-of-00002.safetensors:   4% 178M/4.99G [00:00<00:10, 456MB/s]\u001b[A\n",
            "model-00001-of-00002.safetensors:   5% 241M/4.99G [00:00<00:09, 508MB/s]\u001b[A\n",
            "\n",
            "model-00002-of-00002.safetensors:   4% 10.5M/241M [00:00<00:10, 22.6MB/s]\u001b[A\u001b[A\n",
            "model-00001-of-00002.safetensors:   6% 294M/4.99G [00:00<00:09, 501MB/s]\u001b[A\n",
            "model-00001-of-00002.safetensors:   7% 346M/4.99G [00:00<00:09, 483MB/s]\u001b[A\n",
            "model-00001-of-00002.safetensors:   8% 398M/4.99G [00:00<00:09, 489MB/s]\u001b[A\n",
            "model-00001-of-00002.safetensors:   9% 461M/4.99G [00:01<00:09, 502MB/s]\u001b[A\n",
            "\n",
            "model-00002-of-00002.safetensors:   9% 21.0M/241M [00:00<00:09, 22.8MB/s]\u001b[A\u001b[A\n",
            "model-00001-of-00002.safetensors:  10% 514M/4.99G [00:01<00:09, 492MB/s]\u001b[A\n",
            "model-00001-of-00002.safetensors:  11% 566M/4.99G [00:01<00:08, 501MB/s]\u001b[A\n",
            "model-00001-of-00002.safetensors:  12% 619M/4.99G [00:01<00:08, 490MB/s]\u001b[A\n",
            "model-00001-of-00002.safetensors:  13% 671M/4.99G [00:01<00:08, 489MB/s]\u001b[A\n",
            "\n",
            "model-00002-of-00002.safetensors:  13% 31.5M/241M [00:01<00:09, 22.9MB/s]\u001b[A\u001b[A\n",
            "model-00001-of-00002.safetensors:  15% 724M/4.99G [00:01<00:08, 477MB/s]\u001b[A\n",
            "model-00001-of-00002.safetensors:  16% 776M/4.99G [00:01<00:08, 473MB/s]\u001b[A\n",
            "model-00001-of-00002.safetensors:  17% 828M/4.99G [00:01<00:08, 466MB/s]\u001b[A\n",
            "model-00001-of-00002.safetensors:  18% 881M/4.99G [00:01<00:08, 472MB/s]\u001b[A\n",
            "\n",
            "model-00002-of-00002.safetensors:  17% 41.9M/241M [00:01<00:08, 23.0MB/s]\u001b[A\u001b[A\n",
            "model-00001-of-00002.safetensors:  19% 933M/4.99G [00:02<00:08, 471MB/s]\u001b[A\n",
            "model-00001-of-00002.safetensors:  20% 986M/4.99G [00:02<00:08, 474MB/s]\u001b[A\n",
            "model-00001-of-00002.safetensors:  21% 1.04G/4.99G [00:02<00:08, 474MB/s]\u001b[A\n",
            "model-00001-of-00002.safetensors:  22% 1.09G/4.99G [00:02<00:08, 476MB/s]\u001b[A\n",
            "\n",
            "model-00002-of-00002.safetensors:  22% 52.4M/241M [00:02<00:08, 23.0MB/s]\u001b[A\u001b[A\n",
            "model-00001-of-00002.safetensors:  23% 1.14G/4.99G [00:03<00:26, 146MB/s]\u001b[A\n",
            "\n",
            "model-00002-of-00002.safetensors:  26% 62.9M/241M [00:03<00:10, 17.4MB/s]\u001b[A\u001b[A\n",
            "model-00001-of-00002.safetensors:  24% 1.18G/4.99G [00:03<00:23, 161MB/s]\u001b[A\n",
            "model-00001-of-00002.safetensors:  24% 1.22G/4.99G [00:03<00:21, 179MB/s]\u001b[A\n",
            "model-00001-of-00002.safetensors:  25% 1.26G/4.99G [00:03<00:17, 214MB/s]\u001b[A\n",
            "\n",
            "model-00002-of-00002.safetensors:  35% 83.9M/241M [00:03<00:06, 24.7MB/s]\u001b[A\u001b[A\n",
            "model-00001-of-00002.safetensors:  26% 1.30G/4.99G [00:03<00:16, 227MB/s]\u001b[A\n",
            "model-00001-of-00002.safetensors:  27% 1.34G/4.99G [00:04<00:17, 206MB/s]\u001b[A\n",
            "model-00001-of-00002.safetensors:  28% 1.41G/4.99G [00:04<00:12, 276MB/s]\u001b[A\n",
            "\n",
            "model-00002-of-00002.safetensors:  39% 94.4M/241M [00:04<00:06, 24.2MB/s]\u001b[A\u001b[A\n",
            "model-00001-of-00002.safetensors:  29% 1.45G/4.99G [00:04<00:12, 273MB/s]\u001b[A\n",
            "model-00001-of-00002.safetensors:  30% 1.49G/4.99G [00:04<00:12, 284MB/s]\u001b[A\n",
            "model-00001-of-00002.safetensors:  31% 1.53G/4.99G [00:04<00:12, 281MB/s]\u001b[A\n",
            "\n",
            "model-00002-of-00002.safetensors:  44% 105M/241M [00:04<00:05, 23.9MB/s] \u001b[A\u001b[A\n",
            "model-00001-of-00002.safetensors:  32% 1.57G/4.99G [00:04<00:13, 253MB/s]\u001b[A\n",
            "model-00001-of-00002.safetensors:  32% 1.60G/4.99G [00:05<00:14, 233MB/s]\u001b[A\n",
            "\n",
            "model-00002-of-00002.safetensors:  48% 115M/241M [00:05<00:05, 23.6MB/s]\u001b[A\u001b[A\n",
            "model-00001-of-00002.safetensors:  33% 1.64G/4.99G [00:05<00:15, 217MB/s]\u001b[A\n",
            "model-00001-of-00002.safetensors:  33% 1.67G/4.99G [00:05<00:16, 201MB/s]\u001b[A\n",
            "model-00001-of-00002.safetensors:  34% 1.70G/4.99G [00:05<00:17, 187MB/s]\u001b[A\n",
            "\n",
            "model-00002-of-00002.safetensors:  52% 126M/241M [00:05<00:04, 23.4MB/s]\u001b[A\u001b[A\n",
            "model-00001-of-00002.safetensors:  34% 1.72G/4.99G [00:05<00:18, 179MB/s]\u001b[A\n",
            "model-00001-of-00002.safetensors:  35% 1.74G/4.99G [00:05<00:18, 175MB/s]\u001b[A\n",
            "model-00001-of-00002.safetensors:  35% 1.76G/4.99G [00:05<00:18, 174MB/s]\u001b[A\n",
            "\n",
            "model-00002-of-00002.safetensors:  57% 136M/241M [00:05<00:04, 23.2MB/s]\u001b[A\u001b[A\n",
            "model-00001-of-00002.safetensors:  36% 1.78G/4.99G [00:06<00:19, 167MB/s]\u001b[A\n",
            "model-00001-of-00002.safetensors:  36% 1.80G/4.99G [00:06<00:18, 175MB/s]\u001b[A\n",
            "model-00001-of-00002.safetensors:  37% 1.87G/4.99G [00:06<00:11, 277MB/s]\u001b[A\n",
            "model-00001-of-00002.safetensors:  38% 1.91G/4.99G [00:06<00:11, 280MB/s]\u001b[A\n",
            "\n",
            "model-00002-of-00002.safetensors:  61% 147M/241M [00:06<00:04, 23.2MB/s]\u001b[A\u001b[A\n",
            "model-00001-of-00002.safetensors:  40% 1.97G/4.99G [00:06<00:08, 360MB/s]\u001b[A\n",
            "model-00001-of-00002.safetensors:  40% 2.01G/4.99G [00:06<00:10, 280MB/s]\u001b[A\n",
            "model-00001-of-00002.safetensors:  41% 2.07G/4.99G [00:06<00:09, 320MB/s]\u001b[A\n",
            "\n",
            "model-00002-of-00002.safetensors:  65% 157M/241M [00:06<00:03, 23.1MB/s]\u001b[A\u001b[A\n",
            "model-00001-of-00002.safetensors:  42% 2.11G/4.99G [00:07<00:08, 333MB/s]\u001b[A\n",
            "model-00001-of-00002.safetensors:  43% 2.15G/4.99G [00:07<00:08, 343MB/s]\u001b[A\n",
            "model-00001-of-00002.safetensors:  44% 2.19G/4.99G [00:07<00:07, 352MB/s]\u001b[A\n",
            "model-00001-of-00002.safetensors:  45% 2.24G/4.99G [00:07<00:06, 392MB/s]\u001b[A\n",
            "\n",
            "model-00002-of-00002.safetensors:  70% 168M/241M [00:07<00:03, 23.1MB/s]\u001b[A\u001b[A\n",
            "model-00001-of-00002.safetensors:  46% 2.30G/4.99G [00:07<00:06, 425MB/s]\u001b[A\n",
            "model-00001-of-00002.safetensors:  47% 2.35G/4.99G [00:07<00:05, 448MB/s]\u001b[A\n",
            "model-00001-of-00002.safetensors:  48% 2.40G/4.99G [00:07<00:05, 466MB/s]\u001b[A\n",
            "model-00001-of-00002.safetensors:  49% 2.46G/4.99G [00:07<00:05, 486MB/s]\u001b[A\n",
            "model-00001-of-00002.safetensors:  50% 2.52G/4.99G [00:07<00:05, 494MB/s]\u001b[A\n",
            "\n",
            "model-00002-of-00002.safetensors:  74% 178M/241M [00:07<00:02, 23.0MB/s]\u001b[A\u001b[A\n",
            "model-00001-of-00002.safetensors:  52% 2.57G/4.99G [00:07<00:04, 495MB/s]\u001b[A\n",
            "model-00001-of-00002.safetensors:  53% 2.63G/4.99G [00:08<00:04, 511MB/s]\u001b[A\n",
            "model-00001-of-00002.safetensors:  54% 2.69G/4.99G [00:08<00:04, 528MB/s]\u001b[A\n",
            "model-00001-of-00002.safetensors:  55% 2.76G/4.99G [00:08<00:04, 537MB/s]\u001b[A\n",
            "\n",
            "model-00002-of-00002.safetensors:  78% 189M/241M [00:08<00:02, 23.0MB/s]\u001b[A\u001b[A\n",
            "model-00001-of-00002.safetensors:  57% 2.82G/4.99G [00:08<00:04, 536MB/s]\u001b[A\n",
            "model-00001-of-00002.safetensors:  58% 2.88G/4.99G [00:08<00:03, 548MB/s]\u001b[A\n",
            "model-00001-of-00002.safetensors:  59% 2.95G/4.99G [00:08<00:03, 527MB/s]\u001b[A\n",
            "\n",
            "model-00002-of-00002.safetensors:  83% 199M/241M [00:08<00:01, 23.0MB/s]\u001b[A\u001b[A\n",
            "model-00001-of-00002.safetensors:  60% 3.01G/4.99G [00:08<00:03, 529MB/s]\u001b[A\n",
            "model-00001-of-00002.safetensors:  62% 3.07G/4.99G [00:08<00:03, 487MB/s]\u001b[A\n",
            "model-00001-of-00002.safetensors:  63% 3.12G/4.99G [00:09<00:03, 495MB/s]\u001b[A\n",
            "model-00001-of-00002.safetensors:  64% 3.18G/4.99G [00:09<00:04, 436MB/s]\u001b[A\n",
            "\n",
            "model-00002-of-00002.safetensors:  87% 210M/241M [00:09<00:01, 23.0MB/s]\u001b[A\u001b[A\n",
            "model-00001-of-00002.safetensors:  65% 3.23G/4.99G [00:09<00:05, 339MB/s]\u001b[A\n",
            "model-00001-of-00002.safetensors:  66% 3.28G/4.99G [00:09<00:05, 330MB/s]\u001b[A\n",
            "\n",
            "model-00002-of-00002.safetensors:  91% 220M/241M [00:09<00:00, 23.0MB/s]\u001b[A\u001b[A\n",
            "model-00001-of-00002.safetensors:  67% 3.33G/4.99G [00:09<00:04, 358MB/s]\u001b[A\n",
            "model-00001-of-00002.safetensors:  68% 3.40G/4.99G [00:09<00:03, 405MB/s]\u001b[A\n",
            "model-00001-of-00002.safetensors:  69% 3.45G/4.99G [00:10<00:05, 293MB/s]\u001b[A\n",
            "\n",
            "model-00002-of-00002.safetensors:  96% 231M/241M [00:10<00:00, 23.0MB/s]\u001b[A\u001b[A\n",
            "model-00001-of-00002.safetensors:  70% 3.49G/4.99G [00:10<00:05, 298MB/s]\u001b[A\n",
            "model-00001-of-00002.safetensors:  71% 3.53G/4.99G [00:10<00:05, 284MB/s]\u001b[A\n",
            "\n",
            "model-00002-of-00002.safetensors: 100% 241M/241M [00:10<00:00, 22.9MB/s]\n",
            "\n",
            "model-00001-of-00002.safetensors:  72% 3.58G/4.99G [00:10<00:06, 225MB/s]\u001b[A\n",
            "model-00001-of-00002.safetensors:  73% 3.64G/4.99G [00:10<00:04, 286MB/s]\u001b[A\n",
            "model-00001-of-00002.safetensors:  74% 3.70G/4.99G [00:10<00:03, 342MB/s]\u001b[A\n",
            "model-00001-of-00002.safetensors:  75% 3.75G/4.99G [00:11<00:03, 365MB/s]\u001b[A\n",
            "model-00001-of-00002.safetensors:  77% 3.82G/4.99G [00:11<00:02, 411MB/s]\u001b[A\n",
            "model-00001-of-00002.safetensors:  78% 3.88G/4.99G [00:11<00:02, 455MB/s]\u001b[A\n",
            "model-00001-of-00002.safetensors:  79% 3.93G/4.99G [00:11<00:03, 323MB/s]\u001b[A\n",
            "model-00001-of-00002.safetensors:  80% 4.00G/4.99G [00:11<00:02, 377MB/s]\u001b[A\n",
            "model-00001-of-00002.safetensors:  81% 4.06G/4.99G [00:11<00:02, 414MB/s]\u001b[A\n",
            "model-00001-of-00002.safetensors:  83% 4.12G/4.99G [00:11<00:01, 450MB/s]\u001b[A\n",
            "model-00001-of-00002.safetensors:  84% 4.18G/4.99G [00:12<00:01, 475MB/s]\u001b[A\n",
            "model-00001-of-00002.safetensors:  85% 4.24G/4.99G [00:12<00:01, 387MB/s]\u001b[A\n",
            "model-00001-of-00002.safetensors:  86% 4.30G/4.99G [00:12<00:01, 431MB/s]\u001b[A\n",
            "model-00001-of-00002.safetensors:  87% 4.36G/4.99G [00:12<00:01, 463MB/s]\u001b[A\n",
            "model-00001-of-00002.safetensors:  89% 4.42G/4.99G [00:12<00:01, 490MB/s]\u001b[A\n",
            "model-00001-of-00002.safetensors:  90% 4.48G/4.99G [00:12<00:01, 317MB/s]\u001b[A\n",
            "model-00001-of-00002.safetensors:  91% 4.54G/4.99G [00:13<00:01, 374MB/s]\u001b[A\n",
            "model-00001-of-00002.safetensors:  92% 4.60G/4.99G [00:13<00:00, 414MB/s]\u001b[A\n",
            "model-00001-of-00002.safetensors:  93% 4.66G/4.99G [00:13<00:01, 298MB/s]\u001b[A\n",
            "model-00001-of-00002.safetensors:  94% 4.70G/4.99G [00:13<00:00, 295MB/s]\u001b[A\n",
            "model-00001-of-00002.safetensors:  95% 4.74G/4.99G [00:13<00:00, 280MB/s]\u001b[A\n",
            "model-00001-of-00002.safetensors:  96% 4.78G/4.99G [00:13<00:00, 265MB/s]\u001b[A\n",
            "model-00001-of-00002.safetensors:  96% 4.81G/4.99G [00:14<00:00, 254MB/s]\u001b[A\n",
            "model-00001-of-00002.safetensors:  97% 4.84G/4.99G [00:14<00:00, 245MB/s]\u001b[A\n",
            "model-00001-of-00002.safetensors:  98% 4.88G/4.99G [00:14<00:00, 234MB/s]\u001b[A\n",
            "model-00001-of-00002.safetensors:  98% 4.91G/4.99G [00:14<00:00, 245MB/s]\u001b[A\n",
            "model-00001-of-00002.safetensors:  99% 4.95G/4.99G [00:14<00:00, 260MB/s]\u001b[A\n",
            "model-00001-of-00002.safetensors: 100% 4.99G/4.99G [00:14<00:00, 337MB/s]\n",
            "Fetching 2 files: 100% 2/2 [00:15<00:00,  7.59s/it]\n",
            "Loading checkpoint shards: 100% 2/2 [00:05<00:00,  2.96s/it]\n",
            "generation_config.json: 100% 168/168 [00:00<00:00, 1.28MB/s]\n",
            "Device set to use cuda:0\n",
            "2025-06-15 04:18:59.619 Examining the path of torch.classes raised:\n",
            "Traceback (most recent call last):\n",
            "  File \"/usr/local/lib/python3.11/dist-packages/streamlit/web/bootstrap.py\", line 347, in run\n",
            "    if asyncio.get_running_loop().is_running():\n",
            "       ^^^^^^^^^^^^^^^^^^^^^^^^^^\n",
            "RuntimeError: no running event loop\n",
            "\n",
            "During handling of the above exception, another exception occurred:\n",
            "\n",
            "Traceback (most recent call last):\n",
            "  File \"/usr/local/lib/python3.11/dist-packages/streamlit/watcher/local_sources_watcher.py\", line 217, in get_module_paths\n",
            "    potential_paths = extract_paths(module)\n",
            "                      ^^^^^^^^^^^^^^^^^^^^^\n",
            "  File \"/usr/local/lib/python3.11/dist-packages/streamlit/watcher/local_sources_watcher.py\", line 210, in <lambda>\n",
            "    lambda m: list(m.__path__._path),\n",
            "                   ^^^^^^^^^^^^^^^^\n",
            "  File \"/usr/local/lib/python3.11/dist-packages/torch/_classes.py\", line 13, in __getattr__\n",
            "    proxy = torch._C._get_custom_class_python_wrapper(self.name, attr)\n",
            "            ^^^^^^^^^^^^^^^^^^^^^^^^^^^^^^^^^^^^^^^^^^^^^^^^^^^^^^^^^^\n",
            "RuntimeError: Tried to instantiate class '__path__._path', but it does not exist! Ensure that it is registered via torch::class_\n",
            "Generated response in 2.44s\n",
            "Generated response in 23.81s\n"
          ]
        },
        {
          "output_type": "stream",
          "name": "stderr",
          "text": [
            "WARNING:pyngrok.process.ngrok:t=2025-06-15T04:21:32+0000 lvl=warn msg=\"Stopping forwarder\" name=http-8501-b516800f-b2d1-4208-8bf4-cfcad06d476e acceptErr=\"failed to accept connection: Listener closed\"\n"
          ]
        },
        {
          "output_type": "stream",
          "name": "stdout",
          "text": [
            "\u001b[34m  Stopping...\u001b[0m\n",
            "\u001b[34m  Stopping...\u001b[0m\n"
          ]
        }
      ],
      "source": [
        "from pyngrok import ngrok\n",
        "\n",
        "public_url = ngrok.connect(8501).public_url\n",
        "print(f\"公開URL: {public_url}\")\n",
        "!streamlit run app.py"
      ]
    },
    {
      "cell_type": "markdown",
      "source": [
        "![image.png](data:image/png;base64,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)"
      ],
      "metadata": {
        "id": "_Ce0j81saR4m"
      }
    },
    {
      "cell_type": "markdown",
      "source": [
        "## 回答:\n",
        "Gemmaは、Googleが開発した大規模言語モデル（LLM）です。2022年、Gemmaはオープンソースで公開され、研究や開発コミュニティに広く提供されました。以下に、Gemmaの主要な特徴と解説をまとめます。\n",
        "\n",
        "## 1. Gemmaの概要\n",
        "\n",
        "- 開発元: Google DeepMind\n",
        "- モデルサイズ: 2B、7B、13Bパラメータ\n",
        "- 学習データ: 大量のテキストとコードデータセット\n",
        "- オープンアクセス: 研究目的や開発用途に利用可能\n",
        "- 目的: 自然言語処理タスク（質問応答、テキスト生成、翻訳など）の性能向上\n",
        "\n",
        "## 2. Gemmaの特徴\n",
        "\n",
        "- 高品質なテキスト生成: 様々なトピックに関する創造的で正確なテキストを生成できます。\n",
        "\n",
        "- 幅広いタスクに対応: 質問応答、要約、翻訳、コード生成など、多様なタスクに対応できます。\n",
        "\n",
        "- オープンソース: 誰でも自由に利用、研究、開発に利用できます。\n",
        "\n",
        "- 低コスト: モデルの利用には、計算資源やデータなど、ある程度のコストがかかりますが、比較的に低コストで利用できます。\n",
        "\n",
        "- 多様なモデルサイズ: 2B、7B、13Bの3つのモデルサイズを提供しており、用途に合わせて選択できます。\n",
        "\n",
        "## 3. Gemmaの仕組み\n",
        "\n",
        "Gemmaは、Transformerアーキテクチャに基づいた大規模言語モデルです。具体的には、以下の点が特徴です。\n",
        "\n",
        "- Mixture of Experts (MoE): モデルの性能を向上させるために、複数の「専門家」を組み合わせる技術です。\n",
        "\n",
        "- Sparse Attention: TransformerのAttentionメカニズムの効率化を図り、計算コストを削減しています。\n",
        "\n",
        "## 4. Gemmaの活用例\n",
        "\n",
        "- チャットボット: ユーザーの質問に答えるチャットボットを構築できます。\n",
        "\n",
        "- コンテンツ作成: ブログ記事、メール、レポートなどのコンテンツを生成できます。\n",
        "\n",
        "- プログラミング: コードの生成、デバッグ、コードの説明など、プログラミングに役立てられます。\n",
        "\n",
        "- 教育: 質問応答システム、教材作成、学習支援など、教育分野での活用が期待されています。\n",
        "\n",
        "5. Gemmaのダウンロードと利用\n",
        "\n",
        "- Google AI Studio: Gemmaを直接利用できるウェブベースのインターフェースです。\n",
        "Hugging Face:\n",
        "\n",
        "--------------------------------------------------------------------------------\n",
        "\n"
      ],
      "metadata": {
        "id": "IeZtpxUiaW90"
      }
    },
    {
      "cell_type": "markdown",
      "metadata": {
        "id": "RXlwN3jPCma1"
      },
      "source": [
        "アプリケーションの機能としては、チャット機能や履歴閲覧があります。\n",
        "\n",
        "これらの機能を実現するためには、StreamlitによるUI部分だけではなく、SQLiteを使用したチャット履歴の保存やLLMのモデルを呼び出した推論などの処理を組み合わせることで実現しています。\n",
        "\n",
        "- **`app.py`**: アプリケーションのエントリーポイント。チャット機能、履歴閲覧、サンプルデータ管理のUIを提供します。\n",
        "- **`ui.py`**: チャットページや履歴閲覧ページなど、アプリケーションのUIロジックを管理します。\n",
        "- **`llm.py`**: LLMモデルのロードとテキスト生成を行うモジュール。\n",
        "- **`database.py`**: SQLiteデータベースを使用してチャット履歴やフィードバックを保存・管理します。\n",
        "- **`metrics.py`**: BLEUスコアやコサイン類似度など、回答の評価指標を計算するモジュール。\n",
        "- **`data.py`**: サンプルデータの作成やデータベースの初期化を行うモジュール。\n",
        "- **`config.py`**: アプリケーションの設定（モデル名やデータベースファイル名）を管理します。\n",
        "- **`requirements.txt`**: このアプリケーションを実行するために必要なPythonパッケージ。"
      ]
    },
    {
      "cell_type": "markdown",
      "metadata": {
        "id": "Xvm8sWFPELSP"
      },
      "source": [
        "後片付けとして、使う必要のないngrokのトンネルを削除します。"
      ]
    },
    {
      "cell_type": "code",
      "execution_count": null,
      "metadata": {
        "id": "WFJC2TmZELSP"
      },
      "outputs": [],
      "source": [
        "from pyngrok import ngrok\n",
        "ngrok.kill()"
      ]
    },
    {
      "cell_type": "markdown",
      "metadata": {
        "id": "rUXhIzV7ELSP"
      },
      "source": [
        "# 03_FastAPI\n",
        "\n",
        "ディレクトリ「03_FastAPI」に移動します。"
      ]
    },
    {
      "cell_type": "code",
      "execution_count": null,
      "metadata": {
        "id": "4ejjDLxr3kfC",
        "colab": {
          "base_uri": "https://localhost:8080/"
        },
        "outputId": "607671c7-0d52-45b2-82c6-e599b3f4bbb1"
      },
      "outputs": [
        {
          "output_type": "stream",
          "name": "stdout",
          "text": [
            "/content/lecture-ai-engineering/day1/03_FastAPI\n"
          ]
        }
      ],
      "source": [
        "%cd /content/lecture-ai-engineering/day1/03_FastAPI"
      ]
    },
    {
      "cell_type": "markdown",
      "metadata": {
        "id": "f45TDsNzELSQ"
      },
      "source": [
        "必要なライブラリをインストールします。"
      ]
    },
    {
      "cell_type": "code",
      "execution_count": null,
      "metadata": {
        "id": "9uv6glCz5a7Z"
      },
      "outputs": [],
      "source": [
        "%%capture\n",
        "!pip install -r requirements.txt"
      ]
    },
    {
      "cell_type": "markdown",
      "metadata": {
        "id": "JfrmE2VmELSQ"
      },
      "source": [
        "ngrokとhuggigfaceのトークンを使用して、認証を行います。"
      ]
    },
    {
      "cell_type": "code",
      "execution_count": null,
      "metadata": {
        "id": "ELzWhMFORRIO",
        "colab": {
          "base_uri": "https://localhost:8080/"
        },
        "outputId": "2e14a850-7751-427d-913c-64ac5c49b551"
      },
      "outputs": [
        {
          "output_type": "stream",
          "name": "stdout",
          "text": [
            "Authtoken saved to configuration file: /root/.config/ngrok/ngrok.yml\n",
            "The token has not been saved to the git credentials helper. Pass `add_to_git_credential=True` in this function directly or `--add-to-git-credential` if using via `huggingface-cli` if you want to set the git credential as well.\n",
            "Token is valid (permission: read).\n",
            "The token `dl_class` has been saved to /root/.cache/huggingface/stored_tokens\n",
            "Your token has been saved to /root/.cache/huggingface/token\n",
            "Login successful.\n",
            "The current active token is: `dl_class`\n"
          ]
        }
      ],
      "source": [
        "!ngrok authtoken $$NGROK_TOKEN\n",
        "!huggingface-cli login --token $$HUGGINGFACE_TOKEN"
      ]
    },
    {
      "cell_type": "markdown",
      "metadata": {
        "id": "t-wztc2CELSQ"
      },
      "source": [
        "アプリを起動します。\n",
        "\n",
        "「02_streamlit_app」から続けて「03_FastAPI」を実行している場合は、モデルのダウンロードが済んでいるため、すぐにサービスが立ち上がります。\n",
        "\n",
        "「03_FastAPI」のみを実行している場合は、初回の起動時にモデルのダウンロードが始まるので、モデルのダウンロードが終わるまで数分間待ちましょう。"
      ]
    },
    {
      "cell_type": "code",
      "execution_count": null,
      "metadata": {
        "id": "meQ4SwISn3IQ",
        "colab": {
          "base_uri": "https://localhost:8080/"
        },
        "outputId": "6b72da63-4eb3-44d8-f345-2502a2f923d9"
      },
      "outputs": [
        {
          "output_type": "stream",
          "name": "stdout",
          "text": [
            "2025-04-28 23:49:05.482972: E external/local_xla/xla/stream_executor/cuda/cuda_fft.cc:477] Unable to register cuFFT factory: Attempting to register factory for plugin cuFFT when one has already been registered\n",
            "WARNING: All log messages before absl::InitializeLog() is called are written to STDERR\n",
            "E0000 00:00:1745884145.697060    4164 cuda_dnn.cc:8310] Unable to register cuDNN factory: Attempting to register factory for plugin cuDNN when one has already been registered\n",
            "E0000 00:00:1745884145.759089    4164 cuda_blas.cc:1418] Unable to register cuBLAS factory: Attempting to register factory for plugin cuBLAS when one has already been registered\n",
            "2025-04-28 23:49:06.214638: I tensorflow/core/platform/cpu_feature_guard.cc:210] This TensorFlow binary is optimized to use available CPU instructions in performance-critical operations.\n",
            "To enable the following instructions: AVX2 AVX512F FMA, in other operations, rebuild TensorFlow with the appropriate compiler flags.\n",
            "モデル名を設定: google/gemma-2-2b-jpn-it\n",
            "/content/lecture-ai-engineering/day1/03_FastAPI/app.py:134: DeprecationWarning: \n",
            "        on_event is deprecated, use lifespan event handlers instead.\n",
            "\n",
            "        Read more about it in the\n",
            "        [FastAPI docs for Lifespan Events](https://fastapi.tiangolo.com/advanced/events/).\n",
            "        \n",
            "  @app.on_event(\"startup\")\n",
            "FastAPIエンドポイントを定義しました。\n",
            "アクティブなngrokトンネルはありません。\n",
            "ポート8501に新しいngrokトンネルを開いています...\n",
            "---------------------------------------------------------------------\n",
            "✅ 公開URL:   https://5066-35-240-252-74.ngrok-free.app\n",
            "📖 APIドキュメント (Swagger UI): https://5066-35-240-252-74.ngrok-free.app/docs\n",
            "---------------------------------------------------------------------\n",
            "(APIクライアントやブラウザからアクセスするためにこのURLをコピーしてください)\n",
            "\u001b[32mINFO\u001b[0m:     Started server process [\u001b[36m4164\u001b[0m]\n",
            "\u001b[32mINFO\u001b[0m:     Waiting for application startup.\n",
            "load_model_task: モデルの読み込みを開始...\n",
            "使用デバイス: cuda\n",
            "config.json: 100% 805/805 [00:00<00:00, 5.25MB/s]\n",
            "model.safetensors.index.json: 100% 24.2k/24.2k [00:00<00:00, 68.3MB/s]\n",
            "Fetching 2 files:   0% 0/2 [00:00<?, ?it/s]\n",
            "model-00001-of-00002.safetensors:   0% 0.00/4.99G [00:00<?, ?B/s]\u001b[A\n",
            "\n",
            "model-00002-of-00002.safetensors:   0% 0.00/241M [00:00<?, ?B/s]\u001b[A\u001b[A\n",
            "model-00001-of-00002.safetensors:   1% 31.5M/4.99G [00:00<00:20, 244MB/s]\u001b[A\n",
            "\n",
            "model-00002-of-00002.safetensors:  13% 31.5M/241M [00:00<00:00, 243MB/s]\u001b[A\u001b[A\n",
            "model-00001-of-00002.safetensors:   1% 62.9M/4.99G [00:00<00:21, 224MB/s]\u001b[A\n",
            "\n",
            "model-00002-of-00002.safetensors:  26% 62.9M/241M [00:00<00:00, 215MB/s]\u001b[A\u001b[A\n",
            "model-00001-of-00002.safetensors:   2% 94.4M/4.99G [00:00<00:27, 175MB/s]\u001b[A\n",
            "\n",
            "model-00002-of-00002.safetensors:  39% 94.4M/241M [00:00<00:00, 195MB/s]\u001b[A\u001b[A\n",
            "model-00001-of-00002.safetensors:   2% 115M/4.99G [00:00<00:29, 168MB/s] \u001b[A\n",
            "\n",
            "model-00002-of-00002.safetensors:  57% 136M/241M [00:00<00:00, 219MB/s] \u001b[A\u001b[A\n",
            "model-00001-of-00002.safetensors:   3% 136M/4.99G [00:00<00:27, 178MB/s]\u001b[A\n",
            "\n",
            "model-00002-of-00002.safetensors:  70% 168M/241M [00:00<00:00, 227MB/s]\u001b[A\u001b[A\n",
            "model-00001-of-00002.safetensors:   3% 168M/4.99G [00:00<00:24, 199MB/s]\u001b[A\n",
            "\n",
            "model-00002-of-00002.safetensors:  83% 199M/241M [00:00<00:00, 219MB/s]\u001b[A\u001b[A\n",
            "model-00001-of-00002.safetensors:   4% 189M/4.99G [00:00<00:24, 195MB/s]\u001b[A\n",
            "\n",
            "model-00002-of-00002.safetensors:  96% 231M/241M [00:01<00:00, 192MB/s]\u001b[A\u001b[A\n",
            "model-00002-of-00002.safetensors: 100% 241M/241M [00:01<00:00, 186MB/s]\n",
            "\n",
            "model-00001-of-00002.safetensors:   5% 241M/4.99G [00:01<00:29, 163MB/s]\u001b[A\n",
            "model-00001-of-00002.safetensors:   5% 262M/4.99G [00:01<00:27, 170MB/s]\u001b[A\n",
            "model-00001-of-00002.safetensors:   6% 283M/4.99G [00:01<00:28, 166MB/s]\u001b[A\n",
            "model-00001-of-00002.safetensors:   6% 315M/4.99G [00:01<00:23, 201MB/s]\u001b[A\n",
            "model-00001-of-00002.safetensors:   7% 346M/4.99G [00:01<00:23, 199MB/s]\u001b[A\n",
            "model-00001-of-00002.safetensors:   8% 388M/4.99G [00:02<00:19, 236MB/s]\u001b[A\n",
            "model-00001-of-00002.safetensors:   8% 419M/4.99G [00:02<00:18, 247MB/s]\u001b[A\n",
            "model-00001-of-00002.safetensors:   9% 451M/4.99G [00:02<00:18, 246MB/s]\u001b[A\n",
            "model-00001-of-00002.safetensors:  10% 482M/4.99G [00:02<00:19, 231MB/s]\u001b[A\n",
            "model-00001-of-00002.safetensors:  10% 514M/4.99G [00:02<00:18, 246MB/s]\u001b[A\n",
            "model-00001-of-00002.safetensors:  11% 545M/4.99G [00:02<00:20, 221MB/s]\u001b[A\n",
            "model-00001-of-00002.safetensors:  12% 577M/4.99G [00:02<00:18, 235MB/s]\u001b[A\n",
            "model-00001-of-00002.safetensors:  12% 608M/4.99G [00:02<00:17, 246MB/s]\u001b[A\n",
            "model-00001-of-00002.safetensors:  13% 640M/4.99G [00:03<00:18, 236MB/s]\u001b[A\n",
            "model-00001-of-00002.safetensors:  13% 671M/4.99G [00:03<00:17, 241MB/s]\u001b[A\n",
            "model-00001-of-00002.safetensors:  14% 713M/4.99G [00:03<00:15, 282MB/s]\u001b[A\n",
            "model-00001-of-00002.safetensors:  15% 744M/4.99G [00:03<00:19, 216MB/s]\u001b[A\n",
            "model-00001-of-00002.safetensors:  16% 776M/4.99G [00:03<00:20, 210MB/s]\u001b[A\n",
            "model-00001-of-00002.safetensors:  16% 807M/4.99G [00:03<00:18, 223MB/s]\u001b[A\n",
            "model-00001-of-00002.safetensors:  17% 839M/4.99G [00:03<00:17, 239MB/s]\u001b[A\n",
            "model-00001-of-00002.safetensors:  17% 870M/4.99G [00:04<00:16, 246MB/s]\u001b[A\n",
            "model-00001-of-00002.safetensors:  18% 902M/4.99G [00:04<00:18, 221MB/s]\u001b[A\n",
            "model-00001-of-00002.safetensors:  19% 944M/4.99G [00:04<00:15, 256MB/s]\u001b[A\n",
            "model-00001-of-00002.safetensors:  20% 975M/4.99G [00:04<00:17, 226MB/s]\u001b[A\n",
            "model-00001-of-00002.safetensors:  20% 1.02G/4.99G [00:04<00:15, 262MB/s]\u001b[A\n",
            "model-00001-of-00002.safetensors:  21% 1.06G/4.99G [00:04<00:13, 288MB/s]\u001b[A\n",
            "model-00001-of-00002.safetensors:  22% 1.09G/4.99G [00:04<00:13, 280MB/s]\u001b[A\n",
            "model-00001-of-00002.safetensors:  22% 1.12G/4.99G [00:04<00:13, 280MB/s]\u001b[A\n",
            "model-00001-of-00002.safetensors:  23% 1.16G/4.99G [00:05<00:13, 287MB/s]\u001b[A\n",
            "model-00001-of-00002.safetensors:  24% 1.21G/4.99G [00:05<00:12, 303MB/s]\u001b[A\n",
            "model-00001-of-00002.safetensors:  25% 1.24G/4.99G [00:05<00:14, 255MB/s]\u001b[A\n",
            "model-00001-of-00002.safetensors:  25% 1.27G/4.99G [00:05<00:16, 226MB/s]\u001b[A\n",
            "model-00001-of-00002.safetensors:  26% 1.30G/4.99G [00:05<00:18, 202MB/s]\u001b[A\n",
            "model-00001-of-00002.safetensors:  27% 1.33G/4.99G [00:06<00:20, 182MB/s]\u001b[A\n",
            "model-00001-of-00002.safetensors:  27% 1.35G/4.99G [00:06<00:20, 177MB/s]\u001b[A\n",
            "model-00001-of-00002.safetensors:  28% 1.37G/4.99G [00:06<00:22, 161MB/s]\u001b[A\n",
            "model-00001-of-00002.safetensors:  28% 1.39G/4.99G [00:06<00:21, 167MB/s]\u001b[A\n",
            "model-00001-of-00002.safetensors:  29% 1.43G/4.99G [00:06<00:18, 190MB/s]\u001b[A\n",
            "model-00001-of-00002.safetensors:  29% 1.46G/4.99G [00:06<00:16, 218MB/s]\u001b[A\n",
            "model-00001-of-00002.safetensors:  30% 1.50G/4.99G [00:06<00:14, 246MB/s]\u001b[A\n",
            "model-00001-of-00002.safetensors:  31% 1.53G/4.99G [00:06<00:13, 249MB/s]\u001b[A\n",
            "model-00001-of-00002.safetensors:  32% 1.57G/4.99G [00:07<00:12, 273MB/s]\u001b[A\n",
            "model-00001-of-00002.safetensors:  32% 1.61G/4.99G [00:07<00:11, 283MB/s]\u001b[A\n",
            "model-00001-of-00002.safetensors:  33% 1.66G/4.99G [00:07<00:11, 297MB/s]\u001b[A\n",
            "model-00001-of-00002.safetensors:  34% 1.69G/4.99G [00:07<00:10, 301MB/s]\u001b[A\n",
            "model-00001-of-00002.safetensors:  34% 1.72G/4.99G [00:07<00:11, 294MB/s]\u001b[A\n",
            "model-00001-of-00002.safetensors:  35% 1.75G/4.99G [00:07<00:11, 288MB/s]\u001b[A\n",
            "model-00001-of-00002.safetensors:  36% 1.79G/4.99G [00:07<00:10, 312MB/s]\u001b[A\n",
            "model-00001-of-00002.safetensors:  37% 1.84G/4.99G [00:07<00:09, 336MB/s]\u001b[A\n",
            "model-00001-of-00002.safetensors:  38% 1.88G/4.99G [00:08<00:13, 234MB/s]\u001b[A\n",
            "model-00001-of-00002.safetensors:  38% 1.91G/4.99G [00:08<00:12, 243MB/s]\u001b[A\n",
            "model-00001-of-00002.safetensors:  39% 1.94G/4.99G [00:08<00:12, 243MB/s]\u001b[A\n",
            "model-00001-of-00002.safetensors:  40% 1.97G/4.99G [00:08<00:12, 238MB/s]\u001b[A\n",
            "model-00001-of-00002.safetensors:  40% 2.00G/4.99G [00:08<00:12, 247MB/s]\u001b[A\n",
            "model-00001-of-00002.safetensors:  41% 2.03G/4.99G [00:08<00:11, 261MB/s]\u001b[A\n",
            "model-00001-of-00002.safetensors:  41% 2.07G/4.99G [00:08<00:11, 252MB/s]\u001b[A\n",
            "model-00001-of-00002.safetensors:  42% 2.10G/4.99G [00:09<00:12, 233MB/s]\u001b[A\n",
            "model-00001-of-00002.safetensors:  43% 2.14G/4.99G [00:09<00:11, 247MB/s]\u001b[A\n",
            "model-00001-of-00002.safetensors:  44% 2.17G/4.99G [00:09<00:12, 222MB/s]\u001b[A\n",
            "model-00001-of-00002.safetensors:  44% 2.20G/4.99G [00:09<00:19, 143MB/s]\u001b[A\n",
            "model-00001-of-00002.safetensors:  45% 2.24G/4.99G [00:09<00:14, 186MB/s]\u001b[A\n",
            "model-00001-of-00002.safetensors:  46% 2.29G/4.99G [00:10<00:12, 211MB/s]\u001b[A\n",
            "model-00001-of-00002.safetensors:  46% 2.32G/4.99G [00:10<00:15, 171MB/s]\u001b[A\n",
            "model-00001-of-00002.safetensors:  47% 2.36G/4.99G [00:10<00:12, 209MB/s]\u001b[A\n",
            "model-00001-of-00002.safetensors:  48% 2.40G/4.99G [00:10<00:10, 246MB/s]\u001b[A\n",
            "model-00001-of-00002.safetensors:  49% 2.44G/4.99G [00:10<00:09, 280MB/s]\u001b[A\n",
            "model-00001-of-00002.safetensors:  50% 2.49G/4.99G [00:10<00:08, 293MB/s]\u001b[A\n",
            "model-00001-of-00002.safetensors:  51% 2.53G/4.99G [00:10<00:07, 312MB/s]\u001b[A\n",
            "model-00001-of-00002.safetensors:  52% 2.57G/4.99G [00:10<00:07, 336MB/s]\u001b[A\n",
            "model-00001-of-00002.safetensors:  53% 2.62G/4.99G [00:11<00:06, 354MB/s]\u001b[A\n",
            "model-00001-of-00002.safetensors:  53% 2.66G/4.99G [00:11<00:07, 326MB/s]\u001b[A\n",
            "model-00001-of-00002.safetensors:  54% 2.71G/4.99G [00:11<00:07, 321MB/s]\u001b[A\n",
            "model-00001-of-00002.safetensors:  55% 2.75G/4.99G [00:11<00:07, 284MB/s]\u001b[A\n",
            "model-00001-of-00002.safetensors:  56% 2.78G/4.99G [00:11<00:07, 276MB/s]\u001b[A\n",
            "model-00001-of-00002.safetensors:  56% 2.81G/4.99G [00:11<00:08, 263MB/s]\u001b[A\n",
            "model-00001-of-00002.safetensors:  57% 2.84G/4.99G [00:11<00:08, 255MB/s]\u001b[A\n",
            "model-00001-of-00002.safetensors:  58% 2.87G/4.99G [00:12<00:08, 259MB/s]\u001b[A\n",
            "model-00001-of-00002.safetensors:  58% 2.90G/4.99G [00:12<00:08, 247MB/s]\u001b[A\n",
            "model-00001-of-00002.safetensors:  59% 2.94G/4.99G [00:12<00:08, 256MB/s]\u001b[A\n",
            "model-00001-of-00002.safetensors:  59% 2.97G/4.99G [00:12<00:07, 256MB/s]\u001b[A\n",
            "model-00001-of-00002.safetensors:  60% 3.00G/4.99G [00:12<00:08, 235MB/s]\u001b[A\n",
            "model-00001-of-00002.safetensors:  61% 3.03G/4.99G [00:12<00:07, 251MB/s]\u001b[A\n",
            "model-00001-of-00002.safetensors:  61% 3.06G/4.99G [00:12<00:07, 250MB/s]\u001b[A\n",
            "model-00001-of-00002.safetensors:  62% 3.09G/4.99G [00:13<00:07, 240MB/s]\u001b[A\n",
            "model-00001-of-00002.safetensors:  63% 3.12G/4.99G [00:13<00:07, 254MB/s]\u001b[A\n",
            "model-00001-of-00002.safetensors:  63% 3.16G/4.99G [00:13<00:07, 254MB/s]\u001b[A\n",
            "model-00001-of-00002.safetensors:  64% 3.19G/4.99G [00:13<00:07, 240MB/s]\u001b[A\n",
            "model-00001-of-00002.safetensors:  65% 3.22G/4.99G [00:13<00:06, 253MB/s]\u001b[A\n",
            "model-00001-of-00002.safetensors:  65% 3.25G/4.99G [00:13<00:07, 245MB/s]\u001b[A\n",
            "model-00001-of-00002.safetensors:  66% 3.29G/4.99G [00:13<00:06, 262MB/s]\u001b[A\n",
            "model-00001-of-00002.safetensors:  67% 3.32G/4.99G [00:13<00:06, 265MB/s]\u001b[A\n",
            "model-00001-of-00002.safetensors:  67% 3.36G/4.99G [00:14<00:06, 253MB/s]\u001b[A\n",
            "model-00001-of-00002.safetensors:  68% 3.39G/4.99G [00:14<00:06, 255MB/s]\u001b[A\n",
            "model-00001-of-00002.safetensors:  69% 3.42G/4.99G [00:14<00:06, 233MB/s]\u001b[A\n",
            "model-00001-of-00002.safetensors:  69% 3.46G/4.99G [00:14<00:05, 265MB/s]\u001b[A\n",
            "model-00001-of-00002.safetensors:  70% 3.49G/4.99G [00:14<00:06, 240MB/s]\u001b[A\n",
            "model-00001-of-00002.safetensors:  71% 3.53G/4.99G [00:14<00:05, 265MB/s]\u001b[A\n",
            "model-00001-of-00002.safetensors:  71% 3.57G/4.99G [00:14<00:06, 225MB/s]\u001b[A\n",
            "model-00001-of-00002.safetensors:  72% 3.60G/4.99G [00:15<00:05, 236MB/s]\u001b[A\n",
            "model-00001-of-00002.safetensors:  73% 3.63G/4.99G [00:15<00:05, 242MB/s]\u001b[A\n",
            "model-00001-of-00002.safetensors:  73% 3.66G/4.99G [00:15<00:05, 232MB/s]\u001b[A\n",
            "model-00001-of-00002.safetensors:  74% 3.70G/4.99G [00:15<00:04, 258MB/s]\u001b[A\n",
            "model-00001-of-00002.safetensors:  75% 3.73G/4.99G [00:15<00:05, 241MB/s]\u001b[A\n",
            "model-00001-of-00002.safetensors:  76% 3.77G/4.99G [00:15<00:04, 260MB/s]\u001b[A\n",
            "model-00001-of-00002.safetensors:  76% 3.81G/4.99G [00:15<00:05, 234MB/s]\u001b[A\n",
            "model-00001-of-00002.safetensors:  77% 3.85G/4.99G [00:16<00:04, 265MB/s]\u001b[A\n",
            "model-00001-of-00002.safetensors:  78% 3.88G/4.99G [00:16<00:04, 251MB/s]\u001b[A\n",
            "model-00001-of-00002.safetensors:  78% 3.91G/4.99G [00:16<00:04, 225MB/s]\u001b[A\n",
            "model-00001-of-00002.safetensors:  79% 3.95G/4.99G [00:16<00:04, 258MB/s]\u001b[A\n",
            "model-00001-of-00002.safetensors:  80% 3.98G/4.99G [00:16<00:03, 256MB/s]\u001b[A\n",
            "model-00001-of-00002.safetensors:  81% 4.02G/4.99G [00:16<00:04, 212MB/s]\u001b[A\n",
            "model-00001-of-00002.safetensors:  81% 4.06G/4.99G [00:16<00:03, 244MB/s]\u001b[A\n",
            "model-00001-of-00002.safetensors:  82% 4.10G/4.99G [00:17<00:03, 277MB/s]\u001b[A\n",
            "model-00001-of-00002.safetensors:  83% 4.14G/4.99G [00:18<00:09, 90.3MB/s]\u001b[A\n",
            "model-00001-of-00002.safetensors:  84% 4.17G/4.99G [00:18<00:07, 106MB/s] \u001b[A\n",
            "model-00001-of-00002.safetensors:  85% 4.22G/4.99G [00:18<00:05, 138MB/s]\u001b[A\n",
            "model-00001-of-00002.safetensors:  85% 4.26G/4.99G [00:18<00:04, 167MB/s]\u001b[A\n",
            "model-00001-of-00002.safetensors:  86% 4.29G/4.99G [00:18<00:03, 190MB/s]\u001b[A\n",
            "model-00001-of-00002.safetensors:  87% 4.32G/4.99G [00:18<00:03, 207MB/s]\u001b[A\n",
            "model-00001-of-00002.safetensors:  87% 4.35G/4.99G [00:18<00:02, 228MB/s]\u001b[A\n",
            "model-00001-of-00002.safetensors:  88% 4.38G/4.99G [00:20<00:08, 74.0MB/s]\u001b[A\n",
            "model-00001-of-00002.safetensors:  89% 4.41G/4.99G [00:20<00:06, 92.4MB/s]\u001b[A\n",
            "model-00001-of-00002.safetensors:  90% 4.47G/4.99G [00:20<00:03, 136MB/s] \u001b[A\n",
            "model-00001-of-00002.safetensors:  91% 4.52G/4.99G [00:20<00:02, 180MB/s]\u001b[A\n",
            "model-00001-of-00002.safetensors:  91% 4.56G/4.99G [00:20<00:02, 205MB/s]\u001b[A\n",
            "model-00001-of-00002.safetensors:  92% 4.60G/4.99G [00:20<00:01, 234MB/s]\u001b[A\n",
            "model-00001-of-00002.safetensors:  93% 4.66G/4.99G [00:20<00:01, 278MB/s]\u001b[A\n",
            "model-00001-of-00002.safetensors:  94% 4.70G/4.99G [00:20<00:01, 290MB/s]\u001b[A\n",
            "model-00001-of-00002.safetensors:  95% 4.74G/4.99G [00:21<00:00, 276MB/s]\u001b[A\n",
            "model-00001-of-00002.safetensors:  96% 4.78G/4.99G [00:21<00:00, 279MB/s]\u001b[A\n",
            "model-00001-of-00002.safetensors:  96% 4.81G/4.99G [00:21<00:00, 278MB/s]\u001b[A\n",
            "model-00001-of-00002.safetensors:  97% 4.84G/4.99G [00:21<00:00, 269MB/s]\u001b[A\n",
            "model-00001-of-00002.safetensors:  98% 4.88G/4.99G [00:21<00:00, 267MB/s]\u001b[A\n",
            "model-00001-of-00002.safetensors:  98% 4.91G/4.99G [00:21<00:00, 269MB/s]\u001b[A\n",
            "model-00001-of-00002.safetensors:  99% 4.94G/4.99G [00:21<00:00, 250MB/s]\u001b[A\n",
            "model-00001-of-00002.safetensors: 100% 4.99G/4.99G [00:22<00:00, 226MB/s]\n",
            "Fetching 2 files: 100% 2/2 [00:22<00:00, 11.19s/it]\n",
            "Loading checkpoint shards: 100% 2/2 [00:00<00:00, 10.54it/s]\n",
            "generation_config.json: 100% 168/168 [00:00<00:00, 1.09MB/s]\n",
            "tokenizer_config.json: 100% 46.9k/46.9k [00:00<00:00, 40.7MB/s]\n",
            "tokenizer.model: 100% 4.24M/4.24M [00:00<00:00, 182MB/s]\n",
            "tokenizer.json: 100% 17.5M/17.5M [00:00<00:00, 205MB/s]\n",
            "special_tokens_map.json: 100% 555/555 [00:00<00:00, 4.30MB/s]\n",
            "Device set to use cuda\n",
            "モデル 'google/gemma-2-2b-jpn-it' の読み込みに成功しました\n",
            "load_model_task: モデルの読み込みが完了しました。\n",
            "起動時にモデルの初期化が完了しました。\n",
            "\u001b[32mINFO\u001b[0m:     Application startup complete.\n",
            "\u001b[32mINFO\u001b[0m:     Uvicorn running on \u001b[1mhttp://0.0.0.0:8501\u001b[0m (Press CTRL+C to quit)\n",
            "\u001b[32mINFO\u001b[0m:     202.13.8.214:0 - \"\u001b[1mGET / HTTP/1.1\u001b[0m\" \u001b[32m200 OK\u001b[0m\n",
            "\u001b[32mINFO\u001b[0m:     202.13.8.214:0 - \"\u001b[1mGET /favicon.ico HTTP/1.1\u001b[0m\" \u001b[31m404 Not Found\u001b[0m\n",
            "\u001b[32mINFO\u001b[0m:     202.13.8.214:0 - \"\u001b[1mGET /generate HTTP/1.1\u001b[0m\" \u001b[31m405 Method Not Allowed\u001b[0m\n",
            "シンプルなリクエストを受信: prompt=こんにちは..., max_new_tokens=100\n",
            "モデル推論を開始...\n",
            "モデル推論が完了しました。\n",
            "抽出されたアシスタント応答: ! 👋\n",
            "\n",
            "今日は、ちょっと変わったテーマで、**「あなたの好きな映画の音楽」**についてお話します！\n",
            "\n",
            "どんな音楽が、あなたの心を掴むのでしょうか？\n",
            " \n",
            "✨ **どんな音楽が好きですか？** ✨...\n",
            "応答生成時間: 5.35秒\n",
            "\u001b[32mINFO\u001b[0m:     34.74.184.242:0 - \"\u001b[1mPOST /generate HTTP/1.1\u001b[0m\" \u001b[32m200 OK\u001b[0m\n",
            "シンプルなリクエストを受信: prompt=おはよう..., max_new_tokens=512\n",
            "モデル推論を開始...\n",
            "モデル推論が完了しました。\n",
            "抽出されたアシスタント応答: さん\n",
            "\n",
            "今日はいい天気ですね。\n",
            "\n",
            "☀️\n",
            "\n",
            "どんな予定がありますか？...\n",
            "応答生成時間: 1.28秒\n",
            "\u001b[32mINFO\u001b[0m:     3.234.244.241:0 - \"\u001b[1mPOST /generate HTTP/1.1\u001b[0m\" \u001b[32m200 OK\u001b[0m\n",
            "シンプルなリクエストを受信: prompt=こんにちは..., max_new_tokens=512\n",
            "モデル推論を開始...\n",
            "モデル推論が完了しました。\n",
            "抽出されたアシスタント応答: !\n",
            "\n",
            "今日は、ちょっと変わったテーマで、**「好きな食べ物をテーマにした、オリジナルのキャラクターデザイン」**に挑戦してみましょう！\n",
            "\n",
            "**ステップ1：好きな食べ物からイメージを掴む**\n",
            "\n",
            "まず、あ...\n",
            "応答生成時間: 18.94秒\n",
            "\u001b[32mINFO\u001b[0m:     3.234.244.241:0 - \"\u001b[1mPOST /generate HTTP/1.1\u001b[0m\" \u001b[32m200 OK\u001b[0m\n",
            "t=2025-04-29T00:30:14+0000 lvl=warn msg=\"Stopping forwarder\" name=http-8501-c29df77d-11eb-46b7-84a0-9bf0f87f07aa acceptErr=\"failed to accept connection: Listener closed\"\n",
            "t=2025-04-29T00:30:14+0000 lvl=warn msg=\"Error restarting forwarder\" name=http-8501-c29df77d-11eb-46b7-84a0-9bf0f87f07aa err=\"failed to start tunnel: session closed\"\n",
            "\u001b[32mINFO\u001b[0m:     Shutting down\n",
            "\u001b[32mINFO\u001b[0m:     Finished server process [\u001b[36m4164\u001b[0m]\n",
            "\n",
            "サーバープロセスが終了しました。\n",
            "Task exception was never retrieved\n",
            "future: <Task finished name='Task-1' coro=<Server.serve() done, defined at /usr/local/lib/python3.11/dist-packages/uvicorn/server.py:68> exception=KeyboardInterrupt()>\n",
            "Traceback (most recent call last):\n",
            "  File \"/usr/local/lib/python3.11/dist-packages/uvicorn/main.py\", line 580, in run\n",
            "    server.run()\n",
            "  File \"/usr/local/lib/python3.11/dist-packages/uvicorn/server.py\", line 66, in run\n",
            "    return asyncio.run(self.serve(sockets=sockets))\n",
            "           ^^^^^^^^^^^^^^^^^^^^^^^^^^^^^^^^^^^^^^^^\n",
            "  File \"/usr/local/lib/python3.11/dist-packages/nest_asyncio.py\", line 30, in run\n",
            "    return loop.run_until_complete(task)\n",
            "           ^^^^^^^^^^^^^^^^^^^^^^^^^^^^^\n",
            "  File \"/usr/local/lib/python3.11/dist-packages/nest_asyncio.py\", line 92, in run_until_complete\n",
            "    self._run_once()\n",
            "  File \"/usr/local/lib/python3.11/dist-packages/nest_asyncio.py\", line 133, in _run_once\n",
            "    handle._run()\n",
            "  File \"/usr/lib/python3.11/asyncio/events.py\", line 84, in _run\n",
            "    self._context.run(self._callback, *self._args)\n",
            "  File \"/usr/lib/python3.11/asyncio/tasks.py\", line 360, in __wakeup\n",
            "    self.__step()\n",
            "  File \"/usr/lib/python3.11/asyncio/tasks.py\", line 277, in __step\n",
            "    result = coro.send(None)\n",
            "             ^^^^^^^^^^^^^^^\n",
            "  File \"/usr/local/lib/python3.11/dist-packages/uvicorn/server.py\", line 69, in serve\n",
            "    with self.capture_signals():\n",
            "  File \"/usr/lib/python3.11/contextlib.py\", line 144, in __exit__\n",
            "    next(self.gen)\n",
            "  File \"/usr/local/lib/python3.11/dist-packages/uvicorn/server.py\", line 330, in capture_signals\n",
            "    signal.raise_signal(captured_signal)\n",
            "KeyboardInterrupt\n",
            "\u001b[31mERROR\u001b[0m:    Traceback (most recent call last):\n",
            "  File \"/usr/local/lib/python3.11/dist-packages/starlette/routing.py\", line 699, in lifespan\n",
            "    await receive()\n",
            "GeneratorExit\n",
            "\n",
            "Task was destroyed but it is pending!\n",
            "task: <Task pending name='Task-2' coro=<LifespanOn.main() done, defined at /usr/local/lib/python3.11/dist-packages/uvicorn/lifespan/on.py:78> wait_for=<Future cancelled>>\n"
          ]
        }
      ],
      "source": [
        "!python app.py"
      ]
    },
    {
      "cell_type": "markdown",
      "metadata": {
        "id": "RLubjIhbELSR"
      },
      "source": [
        "FastAPIが起動すると、APIとクライアントが通信するためのURL（エンドポイント）が作られます。\n",
        "\n",
        "URLが作られるのと合わせて、Swagger UIというWebインターフェースが作られます。\n",
        "\n",
        "Swagger UIにアクセスすることで、APIの仕様を確認できたり、APIをテストすることができます。\n",
        "\n",
        "Swagger UIを利用することで、APIを通してLLMを動かしてみましょう。"
      ]
    },
    {
      "cell_type": "markdown",
      "metadata": {
        "id": "XgumW3mGELSR"
      },
      "source": [
        "後片付けとして、使う必要のないngrokのトンネルを削除します。"
      ]
    },
    {
      "cell_type": "code",
      "execution_count": null,
      "metadata": {
        "id": "RJymTZio-WPJ"
      },
      "outputs": [],
      "source": [
        "from pyngrok import ngrok\n",
        "ngrok.kill()"
      ]
    },
    {
      "cell_type": "code",
      "source": [],
      "metadata": {
        "id": "cz1A3Q2E-5YG"
      },
      "execution_count": null,
      "outputs": []
    }
  ],
  "metadata": {
    "colab": {
      "provenance": [],
      "gpuType": "L4",
      "machine_shape": "hm",
      "include_colab_link": true
    },
    "kernelspec": {
      "display_name": "Python 3",
      "name": "python3"
    },
    "language_info": {
      "name": "python"
    },
    "accelerator": "GPU"
  },
  "nbformat": 4,
  "nbformat_minor": 0
}